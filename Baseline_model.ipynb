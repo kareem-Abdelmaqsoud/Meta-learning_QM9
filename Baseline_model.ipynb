{
 "cells": [
  {
   "cell_type": "code",
   "execution_count": 1,
   "metadata": {},
   "outputs": [],
   "source": [
    "import tensorflow as tf\n",
    "import numpy as np\n",
    "\n",
    "# fix the seeds in the parse file..\n",
    "np.random.seed(0)\n",
    "from fetch_data import qm9_parse, qm9_fetch"
   ]
  },
  {
   "cell_type": "code",
   "execution_count": 2,
   "metadata": {},
   "outputs": [
    {
     "name": "stdout",
     "output_type": "stream",
     "text": [
      "Found existing record file, delete if you want to re-fetch\n"
     ]
    }
   ],
   "source": [
    "qm9_records = qm9_fetch()\n",
    "data = qm9_parse(qm9_records)"
   ]
  },
  {
   "cell_type": "code",
   "execution_count": 3,
   "metadata": {},
   "outputs": [],
   "source": [
    "import jax.numpy as jnp\n",
    "import jax.experimental.optimizers as optimizers\n",
    "import jax\n",
    "import warnings\n",
    "import matplotlib.pyplot as plt\n",
    "\n",
    "warnings.filterwarnings(\"ignore\")"
   ]
  },
  {
   "cell_type": "code",
   "execution_count": 4,
   "metadata": {},
   "outputs": [],
   "source": [
    "import seaborn as sns\n",
    "import matplotlib as mpl\n",
    "\n",
    "sns.set_context(\"notebook\")\n",
    "sns.set_style(\n",
    "    \"dark\",\n",
    "    {\n",
    "        \"xtick.bottom\": True,\n",
    "        \"ytick.left\": True,\n",
    "        \"xtick.color\": \"#666666\",\n",
    "        \"ytick.color\": \"#666666\",\n",
    "        \"axes.edgecolor\": \"#666666\",\n",
    "        \"axes.linewidth\": 0.8,\n",
    "        \"figure.dpi\": 300,\n",
    "    },\n",
    ")\n",
    "color_cycle = [\"#1BBC9B\", \"#F06060\", \"#5C4B51\", \"#F3B562\", \"#6e5687\"]\n",
    "mpl.rcParams[\"axes.prop_cycle\"] = mpl.cycler(color=color_cycle)"
   ]
  },
  {
   "cell_type": "code",
   "execution_count": 5,
   "metadata": {},
   "outputs": [],
   "source": [
    "shuffled_data = data.shuffle(7000,reshuffle_each_iteration=False)\n",
    "test_set = shuffled_data.take(10)\n",
    "valid_set = shuffled_data.skip(10).take(10)\n",
    "train_set = shuffled_data.skip(20).take(90)"
   ]
  },
  {
   "cell_type": "code",
   "execution_count": 6,
   "metadata": {},
   "outputs": [],
   "source": [
    "def convert_record(d, task_num):\n",
    "    # break up record\n",
    "    (e, x), y = d\n",
    "    e = e.numpy()\n",
    "    x = x.numpy()\n",
    "    r = x[:, :3]\n",
    "    # make ohc size larger\n",
    "    # so use same node feature\n",
    "    # shape later\n",
    "    ohc = np.zeros((len(e), 16))\n",
    "    ohc[np.arange(len(e)), e - 1] = 1\n",
    "    return (ohc, r), y.numpy()[task_num]"
   ]
  },
  {
   "cell_type": "code",
   "execution_count": 7,
   "metadata": {},
   "outputs": [
    {
     "name": "stdout",
     "output_type": "stream",
     "text": [
      "Mean =  -349.73703 Std = 41.795647\n"
     ]
    }
   ],
   "source": [
    "ys = [convert_record(d, 11)[1] for d in train_set]\n",
    "train_ym = np.mean(ys)\n",
    "train_ys = np.std(ys)\n",
    "print(\"Mean = \", train_ym, \"Std =\", train_ys)"
   ]
  },
  {
   "cell_type": "code",
   "execution_count": 8,
   "metadata": {},
   "outputs": [],
   "source": [
    "def transform_label(y,train_ym,train_ys):\n",
    "    return (y - train_ym) / train_ys\n",
    "\n",
    "def transform_prediction(y,train_ym,train_ys):\n",
    "    return y * train_ys + train_ym"
   ]
  },
  {
   "cell_type": "code",
   "execution_count": 9,
   "metadata": {},
   "outputs": [],
   "source": [
    "epochs = 10\n",
    "eta = 1e-3"
   ]
  },
  {
   "cell_type": "code",
   "execution_count": 10,
   "metadata": {},
   "outputs": [],
   "source": [
    "# convert coordinates to pairwise distances\n",
    "def x2e(x,w_rbf):\n",
    "    '''convert xyz coordinates to inverse pairwise distance'''\n",
    "    d = jnp.array([(i+1)*20/32 for i in range(32)])\n",
    "    r = jnp.sum((x - x[:, jnp.newaxis, :]), axis=-1)\n",
    "    e = jnp.exp((-(r[...,jnp.newaxis]-d[jnp.newaxis,...][jnp.newaxis,...])**2)/w_rbf)\n",
    "    return e\n",
    "\n",
    "\n",
    "def gnn_layer(nodes, edges, features, we, web, wv, wu):\n",
    "    \"\"\"Implementation of the GNN\"\"\"\n",
    "    # step 1 --> compute features stored per edge based on current edge feature and node feature\n",
    "\n",
    "    ek = jax.nn.leaky_relu(\n",
    "        jnp.repeat(nodes[jnp.newaxis,...], nodes.shape[0], axis=0) @ we * edges)\n",
    "\n",
    "    # step 2 --> aggregate to node\n",
    "    ebar = jnp.mean(ek, axis=1)\n",
    "\n",
    "    # step 3 --> update node features\n",
    "    v = jax.nn.leaky_relu(ebar @ wv) + nodes\n",
    "    # step 4 --> update global feature\n",
    "    global_node_features = jnp.sum(v, axis=0)\n",
    "    u = jax.nn.leaky_relu(global_node_features  @ wu) + features\n",
    "    return v, edges, u"
   ]
  },
  {
   "cell_type": "code",
   "execution_count": 11,
   "metadata": {},
   "outputs": [],
   "source": [
    "graph_feature_len = 16\n",
    "node_feature_len = 32\n",
    "msg_feature_len = 32\n",
    "\n",
    "# make our weights\n",
    "def init_weights(g, n, m):\n",
    "    np.random.seed(0)\n",
    "    we = np.random.normal(size=(n, m), scale=1e-1)\n",
    "    np.random.seed(0)\n",
    "    wb = np.random.normal(size=(m), scale=1e-1)\n",
    "    np.random.seed(0)\n",
    "    wv = np.random.normal(size=(m, n), scale=1e-1)\n",
    "    np.random.seed(0)\n",
    "    wu = np.random.normal(size=(n, g), scale=1e-1)\n",
    "    return [ we, wb, wv, wu]"
   ]
  },
  {
   "cell_type": "code",
   "execution_count": 12,
   "metadata": {},
   "outputs": [],
   "source": [
    "# get weights for both layers\n",
    "\n",
    "w1 = init_weights(graph_feature_len, node_feature_len, msg_feature_len)\n",
    "w2 = init_weights(graph_feature_len, node_feature_len, msg_feature_len)\n",
    "np.random.seed(0)\n",
    "w3 = np.random.normal(size=(graph_feature_len))\n",
    "b = 0.0\n",
    "np.random.seed(0)\n",
    "w_rbf = np.random.normal(size=(1), scale=1e-1)\n",
    "np.random.seed(0)\n",
    "matrix = np.random.normal(size=(16, node_feature_len), scale=1e-1)\n",
    "\n",
    "@jax.jit\n",
    "def model(nodes, coords, w1, w2, w3, b, w_rbf, matrix):\n",
    "    f0 = jnp.zeros(graph_feature_len)\n",
    "    e0 = x2e(coords,w_rbf)\n",
    "    n0 = nodes@ matrix\n",
    "    n1, e1, f1 = gnn_layer(n0, e0, f0, *w1)\n",
    "    n2, e2, f2 = gnn_layer(n1, e1, f1, *w2)\n",
    "    yhat = f2 @ w3 + b\n",
    "    return yhat\n",
    "\n",
    "\n",
    "def loss(nodes, coords, y, w1, w2, w3, b, w_rbf,matrix ):\n",
    "    return (model(nodes, coords, w1, w2, w3, b,w_rbf,matrix) - y) ** 2\n",
    "\n",
    "\n",
    "loss_grad = jax.grad(loss, (3, 4, 5, 6,7,8))"
   ]
  },
  {
   "cell_type": "code",
   "execution_count": 13,
   "metadata": {},
   "outputs": [
    {
     "name": "stdout",
     "output_type": "stream",
     "text": [
      "Mean =  -349.73703 Std = 41.795647\n"
     ]
    }
   ],
   "source": [
    "ys = [convert_record(d, 11)[1] for d in train_set]\n",
    "train_ym = np.mean(ys)\n",
    "train_ys = np.std(ys)\n",
    "print(\"Mean = \", train_ym, \"Std =\", train_ys)"
   ]
  },
  {
   "cell_type": "code",
   "execution_count": 14,
   "metadata": {},
   "outputs": [],
   "source": [
    "epochs = 1000"
   ]
  },
  {
   "cell_type": "code",
   "execution_count": 15,
   "metadata": {},
   "outputs": [
    {
     "data": {
      "image/png": "[encoded data removed]",
      "text/plain": [
       "<Figure size 432x288 with 1 Axes>"
      ]
     },
     "metadata": {},
     "output_type": "display_data"
    }
   ],
   "source": [
    "eta = 0.00001\n",
    "train_loss = [0.0 for _ in range(epochs)]\n",
    "val_loss = [0.0 for _ in range(epochs)]\n",
    "\n",
    "for epoch in range(epochs):\n",
    "    #train_loss = 0\n",
    "    for d in train_set:\n",
    "        (e, x), y_raw = convert_record(d, 11)\n",
    "        y = transform_label(y_raw,train_ym,train_ys)\n",
    "        e = e \n",
    "        b = np.mean(y)\n",
    "        grad = loss_grad(e, x, y, w1, w2, w3, b,w_rbf,matrix)\n",
    "        \n",
    "        # update regression weights\n",
    "        w3 -= eta * grad[2]\n",
    "        b -= eta * grad[3]\n",
    "        w_rbf -= eta * grad[4]\n",
    "        matrix -= eta * grad[5]\n",
    "\n",
    "        # update GNN weights\n",
    "        for i, w in [(0, w1), (1, w2)]:\n",
    "            for j in range(len(w)):\n",
    "                w[j] -= eta * grad[i][j]/10\n",
    "        train_loss[epoch] += loss(e, x, y, w1, w2, w3, b, w_rbf, matrix)\n",
    "    train_loss[epoch] = jnp.sqrt(train_loss[epoch] / 10)\n",
    "    #print('train_loss = ', train_loss[epoch])\n",
    "        \n",
    "    # compute validation loss\n",
    "    for v in valid_set:\n",
    "        (e, x), y_raw = convert_record(v,11)\n",
    "        y = transform_label(y_raw,train_ym,train_ys)\n",
    "        e = e \n",
    "        # convert SE to RMSE\n",
    "        val_loss[epoch] += loss(e, x, y, w1, w2, w3, b, w_rbf, matrix)\n",
    "    val_loss[epoch] = jnp.sqrt(val_loss[epoch] / 10)\n",
    "    #print('valid_loss = ', val_loss[epoch])\n",
    "    eta *= 0.9\n",
    "\n",
    "plt.plot(train_loss, label=\"GNN train\")\n",
    "plt.plot(val_loss, label=\"GNN valid\")\n",
    "plt.legend()\n",
    "plt.xlabel(\"Epoch\")\n",
    "plt.ylabel(\"Val Loss\")\n",
    "plt.show()"
   ]
  },
  {
   "cell_type": "code",
   "execution_count": 16,
   "metadata": {},
   "outputs": [
    {
     "data": {
      "image/png": "[encoded data removed]",
      "text/plain": [
       "<Figure size 432x288 with 1 Axes>"
      ]
     },
     "metadata": {},
     "output_type": "display_data"
    }
   ],
   "source": [
    "ys = []\n",
    "yhats = []\n",
    "for v in test_set:\n",
    "    (e, x), y = convert_record(v, 11)\n",
    "    e = e \n",
    "    ys.append(y)\n",
    "    yhat_raw = model(e, x, w1, w2, w3, b,w_rbf,matrix)\n",
    "    yhats.append(transform_prediction(yhat_raw,train_ym,train_ys))\n",
    "\n",
    "\n",
    "plt.plot(ys, ys, \"-\")\n",
    "plt.plot(ys, yhats, \".\")\n",
    "plt.xlabel(\"Energy\")\n",
    "plt.ylabel(\"Predicted Energy\")\n",
    "plt.show()"
   ]
  },
  {
   "cell_type": "code",
   "execution_count": null,
   "metadata": {},
   "outputs": [],
   "source": []
  },
  {
   "cell_type": "code",
   "execution_count": null,
   "metadata": {},
   "outputs": [],
   "source": []
  }
 ],
 "metadata": {
  "kernelspec": {
   "display_name": "Python 3 (rdkit-2020.03.3.0)",
   "language": "python",
   "name": "rdkit-2020.03.3.0"
  },
  "language_info": {
   "codemirror_mode": {
    "name": "ipython",
    "version": 3
   },
   "file_extension": ".py",
   "mimetype": "text/x-python",
   "name": "python",
   "nbconvert_exporter": "python",
   "pygments_lexer": "ipython3",
   "version": "3.8.3"
  }
 },
 "nbformat": 4,
 "nbformat_minor": 2
}
